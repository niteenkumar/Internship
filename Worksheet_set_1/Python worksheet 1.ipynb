{
 "cells": [
  {
   "cell_type": "markdown",
   "metadata": {},
   "source": [
    "# Q11. Write a python program to find the factorial of a number"
   ]
  },
  {
   "cell_type": "code",
   "execution_count": 1,
   "metadata": {},
   "outputs": [
    {
     "name": "stdout",
     "output_type": "stream",
     "text": [
      "Enter a number to find factorial: 7\n",
      "\n",
      " The factorial is  5040\n"
     ]
    }
   ],
   "source": [
    "num=int(input(\"Enter a number to find factorial: \"))\n",
    "prd=1\n",
    "\n",
    "while(num>0):\n",
    "    prd=prd*num\n",
    "    num-=1\n",
    "\n",
    "print(\"\\n The factorial is \",prd)"
   ]
  },
  {
   "cell_type": "markdown",
   "metadata": {},
   "source": [
    "# Q12. Write a python program to find whether a number is prime or composite."
   ]
  },
  {
   "cell_type": "code",
   "execution_count": 2,
   "metadata": {},
   "outputs": [
    {
     "name": "stdout",
     "output_type": "stream",
     "text": [
      "Enter a number: 17\n",
      "17  is a prime number\n"
     ]
    }
   ],
   "source": [
    "num=int(input(\"Enter a number: \"))\n",
    "num1=num-1\n",
    "\n",
    "if(num==0 or num==1):\n",
    "    print(num,\" is neither prime nor composite\")\n",
    "else:\n",
    "    while(num1>1):\n",
    "        if(num%num1==0):\n",
    "            print(num,\" is a composite number\")\n",
    "            break\n",
    "        num1-=1\n",
    "    else:\n",
    "        print(num,\" is a prime number\")"
   ]
  },
  {
   "cell_type": "markdown",
   "metadata": {},
   "source": [
    "# Q13.Write a python program to check whether a given string is palindrome or not."
   ]
  },
  {
   "cell_type": "code",
   "execution_count": 3,
   "metadata": {},
   "outputs": [
    {
     "name": "stdout",
     "output_type": "stream",
     "text": [
      "Enter a string: nitin\n",
      "\n",
      "It's a palindrome\n"
     ]
    }
   ],
   "source": [
    "word=input(\"Enter a string: \")\n",
    "if(word==word[::-1]):\n",
    "    print(\"\\nIt's a palindrome\")\n",
    "else:\n",
    "    print(\"\\nIt's not a paindrome\")"
   ]
  },
  {
   "cell_type": "markdown",
   "metadata": {},
   "source": [
    "# Q14. Write a Python program to get the third side of right-angled triangle from two given sides."
   ]
  },
  {
   "cell_type": "code",
   "execution_count": 5,
   "metadata": {},
   "outputs": [],
   "source": [
    "import math as m"
   ]
  },
  {
   "cell_type": "code",
   "execution_count": 6,
   "metadata": {},
   "outputs": [
    {
     "name": "stdout",
     "output_type": "stream",
     "text": [
      "Enter one side: 12\n",
      "Enter other side: 5\n",
      "third side is  13.0\n"
     ]
    }
   ],
   "source": [
    "p=int(input(\"Enter one side: \"))\n",
    "q=int(input(\"Enter other side: \"))\n",
    "r=m.sqrt(p*p+q*q)\n",
    "print(\"third side is \",r)"
   ]
  },
  {
   "cell_type": "markdown",
   "metadata": {},
   "source": [
    "# Q15. Write a python program to print the frequency of each of the characters present in a given string"
   ]
  },
  {
   "cell_type": "code",
   "execution_count": 9,
   "metadata": {},
   "outputs": [
    {
     "name": "stdout",
     "output_type": "stream",
     "text": [
      "Enter a string: worksheet done\n",
      "\n",
      "Frequency of each character :\n",
      "  {'r': 1, 'h': 1, 'o': 2, 'k': 1, 's': 1, 'w': 1, 'e': 3, 't': 1, ' ': 1, 'n': 1, 'd': 1}\n"
     ]
    }
   ],
   "source": [
    "word = input(\"Enter a string: \")\n",
    "freq={}\n",
    "for i in set(word):\n",
    "    freq[i]=word.count(i)\n",
    "print(\"\\nFrequency of each character :\\n \",freq)"
   ]
  },
  {
   "cell_type": "code",
   "execution_count": null,
   "metadata": {},
   "outputs": [],
   "source": []
  }
 ],
 "metadata": {
  "kernelspec": {
   "display_name": "Python 3",
   "language": "python",
   "name": "python3"
  },
  "language_info": {
   "codemirror_mode": {
    "name": "ipython",
    "version": 3
   },
   "file_extension": ".py",
   "mimetype": "text/x-python",
   "name": "python",
   "nbconvert_exporter": "python",
   "pygments_lexer": "ipython3",
   "version": "3.8.5"
  }
 },
 "nbformat": 4,
 "nbformat_minor": 4
}
